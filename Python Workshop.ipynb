{
 "cells": [
  {
   "cell_type": "markdown",
   "metadata": {},
   "source": [
    "<div class=\"alert alert-block alert-info\" style=\"margin-top: 20px\">\n",
    "<center><font size=6><strong> Getting Started with Python Programming</strong></font></center>"
   ]
  },
  {
   "cell_type": "markdown",
   "metadata": {},
   "source": [
    "# Python Fundamentals"
   ]
  },
  {
   "cell_type": "markdown",
   "metadata": {},
   "source": [
    "<font size = 3> Python has gained global acceptance as the programming language for data analysis and machine learning applications. It is increasingly being adopted as the scripting language in a number of commercial G & G and reservoir engineering softwares (e.g. TNavigator, Interactive Petrophysics (IP), etc.). </font>"
   ]
  },
  {
   "cell_type": "code",
   "execution_count": null,
   "metadata": {},
   "outputs": [],
   "source": [
    "# This is a code cell. Type your code here and click the left \"play\" icon to run. \n",
    "#For example, type (10*2 + 5 - 4 / 3) and run it"
   ]
  },
  {
   "cell_type": "markdown",
   "metadata": {},
   "source": [
    "<font size = 3> Regular mathematical operators (+, -, *, / and power) can be performed in code cells. For example </font>"
   ]
  },
  {
   "cell_type": "code",
   "execution_count": null,
   "metadata": {},
   "outputs": [],
   "source": []
  },
  {
   "cell_type": "markdown",
   "metadata": {},
   "source": [
    "<font size = 3>  Note that power in python is **. </font> "
   ]
  },
  {
   "cell_type": "code",
   "execution_count": null,
   "metadata": {},
   "outputs": [],
   "source": []
  },
  {
   "cell_type": "markdown",
   "metadata": {},
   "source": [
    "## Variable Assigment"
   ]
  },
  {
   "cell_type": "markdown",
   "metadata": {},
   "source": [
    "<font size = 3> The results from the above operations can not be reused in subsequent codes because they were not assigned any name. To use them elsewhere will require retyping and re-running them each time. To avoid such moribound exercise, it is important to assign an operation to a variable (just like each of us has a name). For example, if I assign the operation (10*2 + 5 - 4 / 3) to a variable X, then I can later on perform operations with X such as calculating a new variable Y from X. </font>"
   ]
  },
  {
   "cell_type": "code",
   "execution_count": null,
   "metadata": {},
   "outputs": [],
   "source": []
  },
  {
   "cell_type": "markdown",
   "metadata": {},
   "source": [
    "<font size = 3> You will notice that no output is written for either operation. That is because we have not requested any. To write an output to the screen, we can type the <b> variable name or use the print() function </b>.</font>"
   ]
  },
  {
   "cell_type": "code",
   "execution_count": null,
   "metadata": {},
   "outputs": [],
   "source": []
  },
  {
   "cell_type": "code",
   "execution_count": null,
   "metadata": {},
   "outputs": [],
   "source": []
  },
  {
   "cell_type": "code",
   "execution_count": null,
   "metadata": {},
   "outputs": [],
   "source": [
    "# This will only output the last variable in the cell\n"
   ]
  },
  {
   "cell_type": "code",
   "execution_count": null,
   "metadata": {},
   "outputs": [],
   "source": [
    "# This will print the values of x and y\n"
   ]
  },
  {
   "cell_type": "markdown",
   "metadata": {},
   "source": [
    "## Data Types"
   ]
  },
  {
   "cell_type": "markdown",
   "metadata": {},
   "source": [
    "<font size = 3>The following common data types are recognised by python:\n",
    "1. strings - recognisable by the use of quotation marks \"\" or ''e.g. \"Australia\", \"4\", '4.0', etc.\n",
    "2. integers - e.g. 4, 3, 12\n",
    "3. floats - e.g. 4.0, 3.4567\n",
    "4. complex - e.g. 2.5 - 3j\n",
    "</font>"
   ]
  },
  {
   "cell_type": "markdown",
   "metadata": {},
   "source": [
    "<font size = 3>Consider the values of x and y that we printed in the last example. It will be more intuitive to include some descriptions to the outputs. For examples, <b>x = 7.0 is more descriptive than 7.0</b>. We can use a string to include some descriptions in the <b>print</b> function. </font>"
   ]
  },
  {
   "cell_type": "code",
   "execution_count": null,
   "metadata": {},
   "outputs": [],
   "source": []
  },
  {
   "cell_type": "markdown",
   "metadata": {},
   "source": [
    "<font size =3>Let's perform some operations with strings. Let's  start with a string named <b>myString = \"Australia\"</b></font>"
   ]
  },
  {
   "cell_type": "code",
   "execution_count": null,
   "metadata": {},
   "outputs": [],
   "source": []
  },
  {
   "attachments": {
    "index.PNG": {
     "image/png": "[encoded data removed]"
    }
   },
   "cell_type": "markdown",
   "metadata": {},
   "source": [
    "<p><p>\n",
    "<font size =3> <b>Index and Slicing </b></font>\n",
    "<p></p>\n",
    "<font size =3>Python indexing typically goes from left to right and starts at 0 in unit steps. Right to left indexing is also allowed and starts at -1 in steps of -1 as illustrated below:\n",
    "\n",
    "![index.PNG](attachment:index.PNG)\n",
    "\n",
    "Slicing involves obtaining a subset or subsets of a string at specified locations (indexes).</font>"
   ]
  },
  {
   "cell_type": "code",
   "execution_count": null,
   "metadata": {},
   "outputs": [],
   "source": [
    "# Let's get the first letter in myString\n"
   ]
  },
  {
   "cell_type": "code",
   "execution_count": null,
   "metadata": {},
   "outputs": [],
   "source": [
    "# to get the last letter (or the first letter from right)"
   ]
  },
  {
   "cell_type": "markdown",
   "metadata": {},
   "source": [
    "<font size = 3> To obtain a group of consecutive letters from a string, the slicing is done as <b>string[start:stop:step]</b>. This will give a subset <b>starting from \"start\" and ending one step before the specified \"stop\" </b>. Can you try these out?\n",
    "<p></p>\n",
    "1. myString[0:5:1]\n",
    "<p></p>\n",
    "<p></p>\n",
    "2. myString[0:8:2]\n",
    "\n",
    "<p></p>\n",
    "3. myString[0:8]\n",
    "\n",
    "<p></p>\n",
    "4. myString[0:-1]\n",
    "\n",
    "<p></p>\n",
    "5. myString[3:]\n",
    "\n",
    "<p></p>\n",
    "6. myString[:7]\n",
    "</font>"
   ]
  },
  {
   "cell_type": "code",
   "execution_count": null,
   "metadata": {},
   "outputs": [],
   "source": []
  },
  {
   "cell_type": "code",
   "execution_count": null,
   "metadata": {},
   "outputs": [],
   "source": [
    " "
   ]
  },
  {
   "cell_type": "code",
   "execution_count": null,
   "metadata": {},
   "outputs": [],
   "source": []
  },
  {
   "cell_type": "code",
   "execution_count": null,
   "metadata": {},
   "outputs": [],
   "source": []
  },
  {
   "cell_type": "code",
   "execution_count": null,
   "metadata": {},
   "outputs": [],
   "source": []
  },
  {
   "cell_type": "code",
   "execution_count": null,
   "metadata": {},
   "outputs": [],
   "source": []
  },
  {
   "cell_type": "markdown",
   "metadata": {},
   "source": [
    "<font size = 3>Now, it is important to note that functions exist to convert from one data type to another. For example, to <b>convert an integer 5 to string, we can invoke the function str() and to convert string '5.0' to float, we can use the float() function.</b></font>"
   ]
  },
  {
   "cell_type": "code",
   "execution_count": null,
   "metadata": {},
   "outputs": [],
   "source": [
    "#let's create a new variable called myFloat\n"
   ]
  },
  {
   "cell_type": "code",
   "execution_count": null,
   "metadata": {},
   "outputs": [],
   "source": [
    "# To convert myFloat to an integer\n"
   ]
  },
  {
   "cell_type": "code",
   "execution_count": null,
   "metadata": {},
   "outputs": [],
   "source": [
    "# To convert myFloat to a string\n"
   ]
  },
  {
   "cell_type": "markdown",
   "metadata": {},
   "source": [
    "<p><p>\n",
    "<font size =3> <b>String Formatting </b></font>\n",
    "<p></p>"
   ]
  },
  {
   "cell_type": "code",
   "execution_count": null,
   "metadata": {},
   "outputs": [],
   "source": [
    "# Method 1 - using %-formatting\n"
   ]
  },
  {
   "cell_type": "code",
   "execution_count": null,
   "metadata": {},
   "outputs": [],
   "source": [
    "\n"
   ]
  },
  {
   "cell_type": "code",
   "execution_count": null,
   "metadata": {},
   "outputs": [],
   "source": [
    "# Method 2 - using format function\n"
   ]
  },
  {
   "cell_type": "code",
   "execution_count": null,
   "metadata": {},
   "outputs": [],
   "source": [
    "# Method 3 - using f-formatting\n"
   ]
  },
  {
   "cell_type": "markdown",
   "metadata": {},
   "source": [
    "<p><p>\n",
    "<font size =3> <b>String Operations</b>\n",
    "<p></p>\n",
    "    \n",
    "   \n",
    "<ol>\n",
    "    <li><a>splitting a string </a></li>\n",
    "    <li><a>concatenating two or more strings </a></li>\n",
    "    <li><a>replacing an item in a string </a></li>\n",
    "</ol> </font>"
   ]
  },
  {
   "cell_type": "code",
   "execution_count": null,
   "metadata": {},
   "outputs": [],
   "source": [
    "# Splitting a string\n"
   ]
  },
  {
   "cell_type": "markdown",
   "metadata": {},
   "source": [
    "<font size=3>The result is a list of the individual words making up newString</font>"
   ]
  },
  {
   "cell_type": "code",
   "execution_count": null,
   "metadata": {},
   "outputs": [],
   "source": [
    "# Splitting a string\n"
   ]
  },
  {
   "cell_type": "code",
   "execution_count": null,
   "metadata": {},
   "outputs": [],
   "source": [
    "# Concatenating i.e. joining strings\n"
   ]
  },
  {
   "cell_type": "code",
   "execution_count": null,
   "metadata": {},
   "outputs": [],
   "source": [
    "# let's combine both splitting and concatenating change the format of a file from .las to .csv\n"
   ]
  },
  {
   "cell_type": "code",
   "execution_count": null,
   "metadata": {},
   "outputs": [],
   "source": [
    "# replacing an item in a string\n"
   ]
  },
  {
   "cell_type": "code",
   "execution_count": null,
   "metadata": {},
   "outputs": [],
   "source": []
  },
  {
   "cell_type": "markdown",
   "metadata": {},
   "source": [
    "<font size =3>Despite replacing \"people\" with \"academics\", newString remains unchanged. Why?...Well, strings are immutable ordinarily. So, even though the change is valid, it doesn't affect the original string. To impose the change on the original string, we would have to reassign the change made to the newString as illiustrated below </font>"
   ]
  },
  {
   "cell_type": "code",
   "execution_count": null,
   "metadata": {},
   "outputs": [],
   "source": []
  },
  {
   "cell_type": "markdown",
   "metadata": {},
   "source": [
    "## Data Containers\n",
    "<p></p>\n",
    "<font size = 3>\n",
    "These are all collections of data. The difference among them lies in whether or not the data is ordered, homogeneous; the collection is changeable/mutable; and whether or not the collection is hashable (can be sliced).\n",
    "<p></p>\n",
    "\n",
    "<ol>\n",
    "    <li><a>List</a> - mutable; data may be ordered or unordered, homogeneous or heterogeneous. Lists are hashable and a list can hold multiple entries for an element</li> \n",
    "    <p></p>\n",
    "    <li><a>Tuple</a> - immutable; data may be ordered or unordered, homogeneous or heterogeneous. Also, hashable and can hold muliple entries for an element</li>  \n",
    "    <p></p>\n",
    "    <li><a>Set</a> - mutable (except for frozen sets); data must be ordered but may be homogeneous or heterogeneous. It is unhashable and holds only one entry per element</li> \n",
    "    <p></p>\n",
    "    <li><a>Dictionary</a> - mutable; data may be ordered or unordered, homogeneous or heterogeneous. It is hashable and holds only one entry for each key.</li> \n",
    "</ol> </font>"
   ]
  },
  {
   "cell_type": "markdown",
   "metadata": {},
   "source": [
    "## List\n",
    "<font size = 3>A list can be invoked using the function <b> list() </b>  or using the <b>symbol [ ] </b> . </font>"
   ]
  },
  {
   "cell_type": "code",
   "execution_count": null,
   "metadata": {},
   "outputs": [],
   "source": [
    "# Let's define a list named myList as follow\n"
   ]
  },
  {
   "cell_type": "code",
   "execution_count": null,
   "metadata": {},
   "outputs": [],
   "source": [
    "# Let's test hashability\n"
   ]
  },
  {
   "cell_type": "code",
   "execution_count": null,
   "metadata": {},
   "outputs": [],
   "source": []
  },
  {
   "cell_type": "code",
   "execution_count": null,
   "metadata": {},
   "outputs": [],
   "source": [
    "# let's test mutability - appending elements to a list\n"
   ]
  },
  {
   "cell_type": "code",
   "execution_count": null,
   "metadata": {},
   "outputs": [],
   "source": []
  },
  {
   "cell_type": "markdown",
   "metadata": {},
   "source": [
    "## Tuple\n",
    "<font size = 3>A tuple can be invoked using the function <b> tuple() </b>  or using the <b>symbol ( ) </b> . </font>"
   ]
  },
  {
   "cell_type": "code",
   "execution_count": null,
   "metadata": {},
   "outputs": [],
   "source": [
    "# Let's define a tuple named myTuple as follow\n"
   ]
  },
  {
   "cell_type": "code",
   "execution_count": null,
   "metadata": {},
   "outputs": [],
   "source": []
  },
  {
   "cell_type": "code",
   "execution_count": null,
   "metadata": {},
   "outputs": [],
   "source": [
    "# Let's test hashability\n"
   ]
  },
  {
   "cell_type": "code",
   "execution_count": null,
   "metadata": {},
   "outputs": [],
   "source": [
    "# let's test mutability\n"
   ]
  },
  {
   "cell_type": "markdown",
   "metadata": {},
   "source": [
    "## Set\n",
    "<font size = 3>A Set can be invoked using the function <b> set() </b>  or using the <b>symbol { } </b> . </font>"
   ]
  },
  {
   "cell_type": "code",
   "execution_count": null,
   "metadata": {},
   "outputs": [],
   "source": [
    "# Let's define a set named mySet as follow\n"
   ]
  },
  {
   "cell_type": "code",
   "execution_count": null,
   "metadata": {},
   "outputs": [],
   "source": []
  },
  {
   "cell_type": "markdown",
   "metadata": {},
   "source": [
    "<font size =3> This shows that a set can only hold ordered and unique elements (no repetition) which may be homogeneous or heterogeneous. </font>"
   ]
  },
  {
   "cell_type": "code",
   "execution_count": null,
   "metadata": {},
   "outputs": [],
   "source": [
    "# Let's test hashability\n"
   ]
  },
  {
   "cell_type": "markdown",
   "metadata": {},
   "source": [
    "<font size =3> This shows that a set is unhashable. </font>"
   ]
  },
  {
   "cell_type": "code",
   "execution_count": null,
   "metadata": {},
   "outputs": [],
   "source": [
    "# let's test mutability\n"
   ]
  },
  {
   "cell_type": "markdown",
   "metadata": {},
   "source": [
    "<font size =3> The error doesn't mean that sets are immutable. It is still related to the fact that sets are unhashable. To show that sets are mutable (unless frozen), let's apply the <b>remove & add</b> methods to achieve the same result we wanted</font>"
   ]
  },
  {
   "cell_type": "code",
   "execution_count": null,
   "metadata": {},
   "outputs": [],
   "source": []
  },
  {
   "cell_type": "markdown",
   "metadata": {},
   "source": [
    "<font size =3>  Now, let's freeze the set and try to make changes to it </font>"
   ]
  },
  {
   "cell_type": "code",
   "execution_count": null,
   "metadata": {},
   "outputs": [],
   "source": [
    "# let's define a frozen set\n"
   ]
  },
  {
   "cell_type": "code",
   "execution_count": null,
   "metadata": {},
   "outputs": [],
   "source": []
  },
  {
   "cell_type": "markdown",
   "metadata": {},
   "source": [
    "<font size =3>  This simply shows that frozen sets are immutable. </font>"
   ]
  },
  {
   "cell_type": "markdown",
   "metadata": {},
   "source": [
    "## Dictionary\n",
    "<p></p>\n",
    "<font size = 3>A dictionary can be invoked using the function <b> dict() </b>  or using the <b>symbol { } </b> . Unlike, the other data containers, <b>a dictionary requires two inputs (known as attributes)</b> namely <b> keys and values</b>. A dictionary is formed by mapping each element of the values attribute to the corresponding elements of the keys attribute usig the <b>zip(keys, values)</b> function.\n",
    "<p></p>    \n",
    "For example, let's define two lists as follows: <b>Name = ['Bob','John','Fareedah','Khalid','Abigail']</b> and <b> Age = [48, 37, 32, 28, 25]</b>. We can define a <b>dictionary, people which uses \"Name\" as its keys and \"Age\" as its values</b>.\n",
    "</font>"
   ]
  },
  {
   "cell_type": "code",
   "execution_count": null,
   "metadata": {},
   "outputs": [],
   "source": []
  },
  {
   "cell_type": "code",
   "execution_count": null,
   "metadata": {},
   "outputs": [],
   "source": []
  },
  {
   "cell_type": "code",
   "execution_count": null,
   "metadata": {},
   "outputs": [],
   "source": [
    "# we can use dictionaryname.keys() to obtain the keys attribute\n"
   ]
  },
  {
   "cell_type": "code",
   "execution_count": null,
   "metadata": {},
   "outputs": [],
   "source": [
    "# similarly, we can use dictionaryname.values() to obtain the values attribute\n"
   ]
  },
  {
   "cell_type": "markdown",
   "metadata": {},
   "source": [
    "<font size =3>  Each of these attributes can be converted to list if necessary as illustrated below: </font>"
   ]
  },
  {
   "cell_type": "code",
   "execution_count": null,
   "metadata": {},
   "outputs": [],
   "source": []
  },
  {
   "cell_type": "code",
   "execution_count": null,
   "metadata": {},
   "outputs": [],
   "source": []
  },
  {
   "cell_type": "code",
   "execution_count": null,
   "metadata": {},
   "outputs": [],
   "source": [
    "# let's obtain the value of a specific key - dictionary_name['key']\n"
   ]
  },
  {
   "cell_type": "code",
   "execution_count": null,
   "metadata": {},
   "outputs": [],
   "source": [
    "# We can change the value attribute for a particular key as follows - dictionary_name['key'] = new_value\n"
   ]
  },
  {
   "cell_type": "code",
   "execution_count": null,
   "metadata": {},
   "outputs": [],
   "source": [
    "# we can add a new entry to an existing dictionary in the same way - dictionary_name['new_key'] = new_value\n"
   ]
  },
  {
   "cell_type": "markdown",
   "metadata": {},
   "source": [
    "## More with data containers - methods\n",
    "<p></p>\n",
    "<font size =3> Each data container has a number of useful methods that facilitate its use in programming. The help() function can be used to obtain the list of methods available for a given data container </font>"
   ]
  },
  {
   "cell_type": "code",
   "execution_count": null,
   "metadata": {},
   "outputs": [],
   "source": []
  },
  {
   "cell_type": "code",
   "execution_count": null,
   "metadata": {},
   "outputs": [],
   "source": [
    "# first, let's define a list myList = [-3, -7, 2, 4, 6, 9, 8]\n"
   ]
  },
  {
   "cell_type": "code",
   "execution_count": null,
   "metadata": {},
   "outputs": [],
   "source": [
    "# let's use the insert method as an example  - myList.insert(position, object_to_insert)\n"
   ]
  },
  {
   "cell_type": "code",
   "execution_count": null,
   "metadata": {},
   "outputs": [],
   "source": [
    "# let's use the sort method as an example  - myList.sort()\n"
   ]
  },
  {
   "cell_type": "code",
   "execution_count": null,
   "metadata": {},
   "outputs": [],
   "source": [
    "# let's use the sort method with the reverse keyword to reverse myList  - myList.sort(reverse = True)\n"
   ]
  },
  {
   "cell_type": "code",
   "execution_count": null,
   "metadata": {},
   "outputs": [],
   "source": [
    "# we could use the reverse method directly instead\n"
   ]
  },
  {
   "cell_type": "code",
   "execution_count": null,
   "metadata": {},
   "outputs": [],
   "source": [
    "# count method returns the number of occurences of an element in a data container\n",
    "# for examaple, remember we had myTuple = (1.0, 2, 2, 2.0, 7.0, 3.75, 'C', 'U', 'R', 'T', 'I', 'N', 4.5)\n",
    "# let's count how many 2's we have in myTuple\n"
   ]
  },
  {
   "cell_type": "markdown",
   "metadata": {},
   "source": [
    "## Referencing a list vs copying a list\n",
    "\n"
   ]
  },
  {
   "cell_type": "code",
   "execution_count": null,
   "metadata": {},
   "outputs": [],
   "source": [
    "# Let's define another list named myList_copy \n"
   ]
  },
  {
   "cell_type": "code",
   "execution_count": null,
   "metadata": {},
   "outputs": [],
   "source": [
    "# let's do something to myList_copy\n"
   ]
  },
  {
   "cell_type": "code",
   "execution_count": null,
   "metadata": {},
   "outputs": [],
   "source": [
    "# Let's see what has happened to myList\n"
   ]
  },
  {
   "cell_type": "markdown",
   "metadata": {},
   "source": [
    "<p></p>\n",
    "<font size =3> You will observe that myList has also changed. This because setting myList_copy equal to myList did not create a new copy but rather referencing the original list. To make a distinct copy of a list, we need to use the copy method. </font>"
   ]
  },
  {
   "cell_type": "code",
   "execution_count": null,
   "metadata": {},
   "outputs": [],
   "source": [
    "# Let's redefine myList as follows\n"
   ]
  },
  {
   "cell_type": "code",
   "execution_count": null,
   "metadata": {},
   "outputs": [],
   "source": [
    "# Now let's make a copy of myList\n",
    "\n",
    "\n",
    "#Let's do something with myList_copy\n",
    "\n",
    "\n",
    "# Let's see what has happened\n"
   ]
  },
  {
   "cell_type": "markdown",
   "metadata": {},
   "source": [
    "# len() function\n",
    "<p></p>\n",
    "<font size =3> This is used to obtain the number of elements in a data container </font>"
   ]
  },
  {
   "cell_type": "code",
   "execution_count": null,
   "metadata": {},
   "outputs": [],
   "source": []
  },
  {
   "cell_type": "code",
   "execution_count": null,
   "metadata": {},
   "outputs": [],
   "source": []
  },
  {
   "cell_type": "markdown",
   "metadata": {},
   "source": [
    "## Range\n",
    "<p></p>\n",
    "<font size =3> Range is an immutable sequence of integers. It is defined using the function <b> range(start, stop, step) </b>.  </font>"
   ]
  },
  {
   "cell_type": "code",
   "execution_count": null,
   "metadata": {},
   "outputs": [],
   "source": [
    "# Let's define a range as follows\n"
   ]
  },
  {
   "cell_type": "markdown",
   "metadata": {},
   "source": [
    "<font size =3> The output does not have much meaning. Let's use the list function to obtain a clearer output.</font>"
   ]
  },
  {
   "cell_type": "code",
   "execution_count": null,
   "metadata": {},
   "outputs": [],
   "source": [
    "# let's convert the previous output to a list\n"
   ]
  },
  {
   "cell_type": "code",
   "execution_count": null,
   "metadata": {},
   "outputs": [],
   "source": []
  },
  {
   "cell_type": "markdown",
   "metadata": {},
   "source": [
    "## Repeating Actions - for loop\n",
    "\n",
    "<p></p>\n",
    "<font size =3> Assuming you have a list of names of animals and you are required to print each name on a separate line. What do you think will be an efficient way to achieve this.</font>"
   ]
  },
  {
   "cell_type": "code",
   "execution_count": null,
   "metadata": {},
   "outputs": [],
   "source": [
    "# let's say we have \n",
    "\n",
    "# let's print each name on a line using the print function\n"
   ]
  },
  {
   "cell_type": "markdown",
   "metadata": {},
   "source": [
    "<font size =3> While we achieved the result, it is obvious this approach is ineffective and boring. Now, let's use a <b>for loop</b> instead</font>"
   ]
  },
  {
   "cell_type": "code",
   "execution_count": null,
   "metadata": {},
   "outputs": [],
   "source": []
  },
  {
   "cell_type": "markdown",
   "metadata": {},
   "source": [
    "<font size =3> The variable <b>name</b> in this example is called  <b>loop variable</b> and could have been any thing else</font>"
   ]
  },
  {
   "cell_type": "code",
   "execution_count": null,
   "metadata": {},
   "outputs": [],
   "source": [
    "# let's find the sum of the ages of everyone in our the people dictionary\n"
   ]
  },
  {
   "attachments": {
    "condition.png": {
     "image/png": "[encoded data removed]"
    }
   },
   "cell_type": "markdown",
   "metadata": {},
   "source": [
    "## Working with conditions - \"if - elif - else\"\n",
    "<p></p>\n",
    "<font size =3> You will often need to make a choice among options while programming. This means you may have to set conditions for deciding what the computer does given different options. The general format for working with <b> \"if elif else\" </b> in python is:\n",
    "\n",
    "![condition.png](attachment:condition.png)\n",
    "    \n",
    "\n",
    "Note the use of <b> colon (:) </b> at the end of each conditional statement and the use of <b>indentation</b> before each option. These are very important to avoid syntax and indentation errors respectively.\n",
    "</font>"
   ]
  },
  {
   "cell_type": "code",
   "execution_count": null,
   "metadata": {},
   "outputs": [],
   "source": [
    "# let's look at a simple example to decide if a user input is an even or an odd number\n"
   ]
  },
  {
   "cell_type": "markdown",
   "metadata": {},
   "source": [
    "<font size = 3> Let's look at another example. Let's say I have an heterogeneous list (named myList) and I want to create a sorted list (subset) for each data type present in mylist without any element repeated.\n",
    "<p></p>\n",
    "<b>\n",
    "myList = ['Alex', 'bus', 1, 5, -2, 'apple', 5.25, 1.245, 0.5, 3, 0, 2, 1, 0, 'bus', 'cat', 1, 'apple', 1.25, -9.3]\n",
    "</b>\n",
    "</font>"
   ]
  },
  {
   "cell_type": "code",
   "execution_count": null,
   "metadata": {},
   "outputs": [],
   "source": [
    "\"\"\"\n",
    "To do this, my algorithm is:\n",
    "1. Create 3 empty lists - strList, intList, floatList\n",
    "2. Examine the type of each item in myList using the type() function\n",
    "3. Append the item to the appropriate list from step 1\n",
    "\"\"\"\n"
   ]
  },
  {
   "cell_type": "markdown",
   "metadata": {},
   "source": [
    "## List Comprehension\n",
    "<p></p>\n",
    "<font size = 3> Assuming we want to make a list of the squares of the elements of another list of numbers. Of course, we can use for loop, but that can become very slow especially is the list is large. A smarter approach is to use list comprehension, which generally follows the following format:\n",
    "    \n",
    "<p></p>\n",
    "<b>\n",
    "new_list = [do_something_with_item for item in original_list if condition applies]\n",
    "</b>\n",
    "</font>"
   ]
  },
  {
   "cell_type": "code",
   "execution_count": null,
   "metadata": {},
   "outputs": [],
   "source": [
    "# Let's try this out and time the operation\n"
   ]
  },
  {
   "cell_type": "code",
   "execution_count": null,
   "metadata": {},
   "outputs": [],
   "source": [
    "# Let's repeat the exercise using list comprehension and see how much time it takes\n"
   ]
  },
  {
   "cell_type": "code",
   "execution_count": null,
   "metadata": {},
   "outputs": [],
   "source": [
    "# Let's try another one with a condition\n"
   ]
  },
  {
   "cell_type": "markdown",
   "metadata": {},
   "source": [
    "## Data I/O (reading from and writing to files)\n",
    "<p></p>  \n",
    "<font size = 3>  \n",
    "- As seen before, user input can be obtained using the <b>input()</b> function\n",
    "<p></p>  \n",
    "<p></p>  \n",
    "- Writing to the screen can achieved by calling the variable or using the <b>print()</b> function\n",
    "<p></p>  \n",
    "<p></p>   \n",
    "- To open a file, the <b> open(path_to_file, mode)</b> function can be used. Alternatively, can use <b> with open(path_to_file, mode) as variable_name:</b>.\n",
    "<p></p>  \n",
    "<p></p>   \n",
    "- After opening a file, its contents can be read using either <b>read(), readline() or readlines() function</b>. What's the difference? read() is used to read the entire content of the file as a string. readline() is used to read a single line (usually the first line) from the file while readlines is used to read the contents of the file line by line.\n",
    "<p></p>  \n",
    "<p></p>\n",
    "- The function <b> write()</b> can be used to write data to a file. However, the file must first be opened as in <b> write </b>mode. \n",
    "</font>"
   ]
  },
  {
   "cell_type": "code",
   "execution_count": null,
   "metadata": {},
   "outputs": [],
   "source": [
    "# Let's open the file name Mary_Lamb.txt as file\n"
   ]
  },
  {
   "cell_type": "code",
   "execution_count": null,
   "metadata": {},
   "outputs": [],
   "source": [
    "#Let's read the entire contents as a string\n"
   ]
  },
  {
   "cell_type": "code",
   "execution_count": null,
   "metadata": {},
   "outputs": [],
   "source": [
    "#Let's read the first line\n"
   ]
  },
  {
   "cell_type": "code",
   "execution_count": null,
   "metadata": {},
   "outputs": [],
   "source": [
    "# Let's read all contents line by line \n"
   ]
  },
  {
   "cell_type": "code",
   "execution_count": null,
   "metadata": {},
   "outputs": [],
   "source": [
    "# Now, let's write some data to a file\n",
    "\n",
    "\n",
    "# Let's write these to a file named Joe.txt\n"
   ]
  },
  {
   "cell_type": "markdown",
   "metadata": {},
   "source": [
    "## Working with Modules\n",
    "\n",
    "<p></p>  \n",
    "<font size = 3>  A module is a file containing python definitions and statements that can be deployed to achieve desired results. Modules are files with extension <b>.py</b>. A module must first be imported into the python IDE before its first usage. The general format for importing modules is\n",
    "      \n",
    "- import module_name\n",
    "- import module name as abbreviation\n",
    "\n",
    "Either way, this type of import is known as absolute import. \n",
    "\n",
    "As an alternative, you can import the specific class you need from a module using the format \n",
    "- from module_name  import class_name#1, class_name#2 \n",
    "- import module_name.class_name \n",
    "- import module_name.class_name as abbreviation.\n",
    "\n",
    "Each of  theses is known as relative import\n",
    "\n",
    "</font>"
   ]
  },
  {
   "cell_type": "markdown",
   "metadata": {},
   "source": [
    "## Data Visualisation - Plotting Data in Python\n",
    "\n",
    "<font size = 3> The most commonly used (de facto) visualisation library/module in python is matplotlib. The pyplot class in matplotlib is well-suited for most scientist plots (line plots, barchats, scatter plots, etc). It is commonly imported using the the format \n",
    "\n",
    "<b> import matplotlib.pyplot as plt </b>\n",
    "\n",
    "However, for Jupyter Notebook, an additional statement is required for the plot to show inline.\n",
    "\n",
    "Matplotlib allows personalisation of the plots and a list of different plot cosmetics is available on the following link \n",
    "\n",
    "https://matplotlib.org/api/_as_gen/matplotlib.pyplot.html\n",
    "\n",
    "<p></p>\n",
    "<p></p>\n",
    "As a quick introduction, we would plot a simple quadratic graph using the following syntax:\n",
    "<p></p>\n",
    "<p></p>\n",
    "import matplotlib.pyplot as plt\n",
    "<p></p>\n",
    "%matplotlib inline\n",
    "<p></p>\n",
    "plt.figure(figsize=(6,6))\n",
    "<p></p>\n",
    "plt.plot(x, y)\n",
    "<p></p>\n",
    "plt.xlabel('x')\n",
    "<p></p>\n",
    "plt.ylabel('y')\n",
    "<p></p>\n",
    "plt.xlim(xlimit1, xlimit2)\n",
    "<p></p>\n",
    "plt.ylim(ylimit1, ylimit2)\n",
    "<p></p>\n",
    "plt.title('Plot Title')\n",
    "\n",
    "</font>"
   ]
  },
  {
   "cell_type": "code",
   "execution_count": null,
   "metadata": {},
   "outputs": [],
   "source": [
    "# Let's start by defining two variables x and y as follows\n",
    "x = [-3, -2.5, -2.0, -1.5, -1.0, -0.5, 0, 0.5, 1.0, 1.5, 2.0, 2.5, 3.0]\n",
    "# y = 2x^2 - 3x + 1\n"
   ]
  },
  {
   "cell_type": "code",
   "execution_count": null,
   "metadata": {},
   "outputs": [],
   "source": [
    "# import here\n"
   ]
  },
  {
   "cell_type": "code",
   "execution_count": null,
   "metadata": {},
   "outputs": [],
   "source": [
    "# plot here"
   ]
  },
  {
   "cell_type": "markdown",
   "metadata": {},
   "source": [
    "## Assignments - put your new skills to test!"
   ]
  },
  {
   "cell_type": "code",
   "execution_count": null,
   "metadata": {},
   "outputs": [],
   "source": [
    "# Assignment #1\n",
    "# write a code to get a user to input his/her email and valid the entry as an email"
   ]
  },
  {
   "cell_type": "code",
   "execution_count": null,
   "metadata": {},
   "outputs": [],
   "source": [
    "# Assignment #2\n",
    "# Write a code to read the contents of the file named facies.txt and read the content of each column into a list \n",
    "#(Hint: This will test your understanding of how to combine some string operations, with for loop and/or list operations)"
   ]
  }
 ],
 "metadata": {
  "kernelspec": {
   "display_name": "Python 3",
   "language": "python",
   "name": "python3"
  },
  "language_info": {
   "codemirror_mode": {
    "name": "ipython",
    "version": 3
   },
   "file_extension": ".py",
   "mimetype": "text/x-python",
   "name": "python",
   "nbconvert_exporter": "python",
   "pygments_lexer": "ipython3",
   "version": "3.7.4"
  }
 },
 "nbformat": 4,
 "nbformat_minor": 4
}
